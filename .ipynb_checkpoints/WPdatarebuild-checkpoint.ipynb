{
 "cells": [
  {
   "cell_type": "code",
   "execution_count": 1,
   "id": "acf0f509-deb3-474d-b2fc-c60a6056d50d",
   "metadata": {},
   "outputs": [],
   "source": [
    "import pandas as pd\n",
    "import numpy as np\n",
    "from pycaret.classification import *"
   ]
  },
  {
   "cell_type": "code",
   "execution_count": 2,
   "id": "6d1f5059-fa4b-488f-8bef-63efa947edb2",
   "metadata": {},
   "outputs": [
    {
     "data": {
      "text/plain": [
       "(2274015, 20)"
      ]
     },
     "execution_count": 2,
     "metadata": {},
     "output_type": "execute_result"
    }
   ],
   "source": [
    "data = pd.read_csv('./WorldPopulation/WPP2022_PopulationBySingleAgeSex_Medium_Percentage_2022-2100\\WPP2022_PopulationBySingleAgeSex_Medium_Percentage_2022-2100.csv',low_memory=False)\n",
    "df=data.copy()\n",
    "df.shape"
   ]
  },
  {
   "cell_type": "code",
   "execution_count": 3,
   "id": "9c34780b-8436-4b6e-8f07-096190c5ec9a",
   "metadata": {},
   "outputs": [],
   "source": [
    "set_aside_census_tc=df.sample(frac=0.01,random_state=5)\n",
    "census_tc=df.drop(set_aside_census_tc.index)"
   ]
  },
  {
   "cell_type": "code",
   "execution_count": 4,
   "id": "6ccaa924-2696-4fc7-b769-fafeb4379f49",
   "metadata": {},
   "outputs": [
    {
     "data": {
      "text/plain": [
       "((22740, 20), (2251275, 20))"
      ]
     },
     "execution_count": 4,
     "metadata": {},
     "output_type": "execute_result"
    }
   ],
   "source": [
    "set_aside_census_tc.shape,census_tc.shape"
   ]
  },
  {
   "cell_type": "code",
   "execution_count": 5,
   "id": "08531c9c-a3c4-4447-a054-4fe5d25cd3bc",
   "metadata": {},
   "outputs": [],
   "source": [
    "set_aside_census_tc.to_csv('./data/1pctWPPbySingleAgeSex.csv')\n",
    "census_tc.to_csv('./data/99pctWPPbySingleAgeSex.csv')"
   ]
  },
  {
   "cell_type": "code",
   "execution_count": null,
   "id": "fb79c589-f204-482b-9fd2-774830031395",
   "metadata": {},
   "outputs": [],
   "source": []
  }
 ],
 "metadata": {
  "kernelspec": {
   "display_name": "Python 3 (ipykernel)",
   "language": "python",
   "name": "python3"
  },
  "language_info": {
   "codemirror_mode": {
    "name": "ipython",
    "version": 3
   },
   "file_extension": ".py",
   "mimetype": "text/x-python",
   "name": "python",
   "nbconvert_exporter": "python",
   "pygments_lexer": "ipython3",
   "version": "3.11.8"
  }
 },
 "nbformat": 4,
 "nbformat_minor": 5
}
